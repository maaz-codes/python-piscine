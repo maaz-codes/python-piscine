{
  "nbformat": 4,
  "nbformat_minor": 0,
  "metadata": {
    "colab": {
      "provenance": []
    },
    "kernelspec": {
      "name": "python3",
      "display_name": "Python 3"
    },
    "language_info": {
      "name": "python"
    }
  },
  "cells": [
    {
      "cell_type": "code",
      "execution_count": 39,
      "metadata": {
        "colab": {
          "base_uri": "https://localhost:8080/"
        },
        "id": "b07wWVRyaYhH",
        "outputId": "7bcc4794-1799-4eb2-c988-c45932a65fc4"
      },
      "outputs": [
        {
          "output_type": "stream",
          "name": "stdout",
          "text": [
            "['CLOCK_BOOTTIME', 'CLOCK_MONOTONIC', 'CLOCK_MONOTONIC_RAW', 'CLOCK_PROCESS_CPUTIME_ID', 'CLOCK_REALTIME', 'CLOCK_TAI', 'CLOCK_THREAD_CPUTIME_ID', '_STRUCT_TM_ITEMS', '__doc__', '__loader__', '__name__', '__package__', '__spec__', 'altzone', 'asctime', 'clock_getres', 'clock_gettime', 'clock_gettime_ns', 'clock_settime', 'clock_settime_ns', 'ctime', 'daylight', 'get_clock_info', 'gmtime', 'localtime', 'mktime', 'monotonic', 'monotonic_ns', 'perf_counter', 'perf_counter_ns', 'process_time', 'process_time_ns', 'pthread_getcpuclockid', 'sleep', 'strftime', 'strptime', 'struct_time', 'thread_time', 'thread_time_ns', 'time', 'time_ns', 'timezone', 'tzname', 'tzset']\n",
            "['__call__', '__class__', '__delattr__', '__dir__', '__doc__', '__eq__', '__format__', '__ge__', '__getattribute__', '__getstate__', '__gt__', '__hash__', '__init__', '__init_subclass__', '__le__', '__lt__', '__module__', '__name__', '__ne__', '__new__', '__qualname__', '__reduce__', '__reduce_ex__', '__repr__', '__self__', '__setattr__', '__sizeof__', '__str__', '__subclasshook__', '__text_signature__']\n",
            "1739991906.608947\n",
            "2025-02-19 19:05:06.609018\n",
            "2025-02-19 19:05:06\n",
            "1.74e+09\n",
            "123,456\n",
            "Formatted: 123654.00\n",
            "123.46\n",
            "Rounded Number: 123.7\n"
          ]
        }
      ],
      "source": [
        "import time, datetime\n",
        "\n",
        "# use dir() for knowing all possible methods or properties of a module or class or instance.\n",
        "print(dir(time))\n",
        "print(dir(time.time))\n",
        "\n",
        "# use help() for learning about modules, methods, properties, etc.\n",
        "  # help(datetime.datetime)\n",
        "\n",
        "current_time = time.time()\n",
        "print(current_time)\n",
        "\n",
        "current_datetime = datetime.datetime.now()\n",
        "print(current_datetime)\n",
        "\n",
        "# Formatting dates\n",
        "  # can use %B or %b for full month name or abbreviated name respectfully.\n",
        "formatted_date = current_datetime.strftime(\"%Y-%m-%d %H:%M:%S\")\n",
        "print(formatted_date)\n",
        "\n",
        "# get time in scientific notation\n",
        "# String Formatting\n",
        "print(f\"{current_time:.2e}\") # .2e specifies 2 decimal places in scientific notation\n",
        "\n",
        "# to add commas to number\n",
        "print(f\"{123456:,}\")\n",
        "print(\"Formatted: {:,}\".format(123654))\n",
        "\n",
        "# to round off a number\n",
        "rounded_num = round(123.456, 2)\n",
        "print(rounded_num)\n",
        "print(f\"Rounded Number: {123.654:.1f}\")"
      ]
    },
    {
      "cell_type": "code",
      "source": [
        "# ex01\n",
        "import time, datetime\n",
        "\n",
        "current_time = time.time()\n",
        "current_datetime = datetime.datetime.now()\n",
        "print(f\"Seconds since January 1, 1970: {current_time:,.4f} or {current_time:.2e} in scientific notation\")\n",
        "print(f\"{current_datetime.strftime('%b %d %Y')}\")"
      ],
      "metadata": {
        "colab": {
          "base_uri": "https://localhost:8080/"
        },
        "id": "SL1zL5IKfyrQ",
        "outputId": "42ea6b11-3b5d-437e-9be1-e0e8803bc4d7"
      },
      "execution_count": 54,
      "outputs": [
        {
          "output_type": "stream",
          "name": "stdout",
          "text": [
            "Seconds since January 1, 1970: 1,739,992,486.1218 or 1.74e+09 in scientific notation\n",
            "Feb 19 2025\n"
          ]
        }
      ]
    }
  ]
}