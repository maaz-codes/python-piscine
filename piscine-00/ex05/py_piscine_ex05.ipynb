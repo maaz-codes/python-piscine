{
  "nbformat": 4,
  "nbformat_minor": 0,
  "metadata": {
    "colab": {
      "provenance": []
    },
    "kernelspec": {
      "name": "python3",
      "display_name": "Python 3"
    },
    "language_info": {
      "name": "python"
    }
  },
  "cells": [
    {
      "cell_type": "code",
      "execution_count": null,
      "metadata": {
        "id": "k106HthM0m_T"
      },
      "outputs": [],
      "source": [
        "# Why Avoid Global Code.\n",
        "  # Encapsulation & Maintainability\n",
        "  # when a file is imported as a module, global code executes immediately\n",
        "  # Globals create race conditions in multi-threaded/multi-process applications"
      ]
    },
    {
      "cell_type": "code",
      "source": [
        "# if __name__ == \"__main__\": main() :\n",
        "  # Every Python file has a built-in variable called __name__.\n",
        "  # When a script runs directly, __name__ is set to \"__main__\".\n",
        "  # When a script is imported as a module, __name__ is set to the module's filename.\n",
        "\n",
        "# This condition ensures the script runs only when executed directly, not when imported."
      ],
      "metadata": {
        "id": "zbDqcnQa6vbU"
      },
      "execution_count": null,
      "outputs": []
    },
    {
      "cell_type": "code",
      "source": [
        "# What is a Docstring\n",
        "  # A docstring is a string literal that appears right after the function definition.\n",
        "  # It serves as the official documentation for that function.\n",
        "  # It's enclosed in triple quotes \"\"\" \"\"\" (either single or double quotes are fine).\n",
        "\n",
        "def foo():\n",
        "    \"\"\"This is a docstring that describes the function.\"\"\"\n",
        "    pass\n",
        "\n",
        "print(foo.__doc__)"
      ],
      "metadata": {
        "colab": {
          "base_uri": "https://localhost:8080/"
        },
        "id": "0iMGxHCs9tcf",
        "outputId": "545e6e9b-5e94-4111-e0d0-fd6f42fa5819"
      },
      "execution_count": null,
      "outputs": [
        {
          "output_type": "stream",
          "name": "stdout",
          "text": [
            "This is a docstring that describes the function.\n"
          ]
        }
      ]
    },
    {
      "cell_type": "code",
      "source": [
        "# Base-Exceptions\n",
        "\n",
        "# BaseException\n",
        "#     ├── SystemExit\n",
        "#     ├── KeyboardInterrupt\n",
        "#     ├── GeneratorExit\n",
        "#     └── Exception  # All other exceptions inherit from this\n",
        "#         ├── ValueError\n",
        "#         ├── TypeError\n",
        "#         └── ... (other exceptions)\n",
        "\n",
        "# So to catch keyboard-interrupt (ctr + C) catch KeyboardInterrupt\n",
        "\n",
        "import sys\n",
        "\n",
        "except (KeyboardException):\n",
        "  sys.exit()"
      ],
      "metadata": {
        "id": "WmwyqLKv8uBt"
      },
      "execution_count": null,
      "outputs": []
    }
  ]
}