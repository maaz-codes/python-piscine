{
  "cells": [
    {
      "cell_type": "code",
      "execution_count": 5,
      "metadata": {
        "colab": {
          "base_uri": "https://localhost:8080/"
        },
        "id": "y1qXftOFp6ZX",
        "outputId": "716fc733-154d-480f-9532-1527cd62de70"
      },
      "outputs": [
        {
          "name": "stdout",
          "output_type": "stream",
          "text": [
            "8\n",
            "(1.67, 1, 2)\n"
          ]
        }
      ],
      "source": [
        "# defining function in python\n",
        "def foo(a: int, b: int) -> int:\n",
        "  return (a + b)\n",
        "\n",
        "print(foo(3, 5))\n",
        "\n",
        "# multiple return values\n",
        "def multi_foo(a: int, b: int) -> tuple[float, int, int]:\n",
        "  return (round(a / b, 2), a // b, a % b)\n",
        "\n",
        "print(multi_foo(5, 3))"
      ]
    },
    {
      "cell_type": "code",
      "execution_count": 7,
      "metadata": {
        "colab": {
          "base_uri": "https://localhost:8080/"
        },
        "id": "P24rAvSM6KqC",
        "outputId": "34de428f-c25b-4443-8a52-ca1ec669abb4"
      },
      "outputs": [
        {
          "name": "stdout",
          "output_type": "stream",
          "text": [
            "Hello Taha\n",
            "Hello Maaz\n"
          ]
        }
      ],
      "source": [
        "# Default Arguments : Python allows default values for parameters\n",
        "def def_foo(name: str = \"Maaz\") -> int:\n",
        "  return (f\"Hello {name}\")\n",
        "\n",
        "print(def_foo(\"Taha\"))\n",
        "print(def_foo())"
      ]
    },
    {
      "cell_type": "code",
      "execution_count": 19,
      "metadata": {
        "colab": {
          "base_uri": "https://localhost:8080/"
        },
        "id": "pVdlZmkH6zst",
        "outputId": "aa7ae12c-1f17-4c71-e8d3-a16cec0bcfa5"
      },
      "outputs": [
        {
          "name": "stdout",
          "output_type": "stream",
          "text": [
            "42\n",
            "Hello Maaz\n",
            "Do you study in 42?\n",
            "I think your age is 23.\n"
          ]
        }
      ],
      "source": [
        "# Variable-Length Arguments (*args): allows passing multiple positional arguments\n",
        "def multi_arg_foo(*numbers) -> int:\n",
        "  return (sum(numbers))\n",
        "\n",
        "print(multi_arg_foo(1, 2, 3, 4, 5, 15, 12))\n",
        "\n",
        "# Keyword Arguments (**kwargs) : allows a function to accept a variable number of named (keyword) arguments\n",
        "def keyword_args_foo(*random, **info) -> int:\n",
        "  if \"name\" in info:\n",
        "    print(f\"Hello {info['name']}\")\n",
        "  if \"school\" in info:\n",
        "    print(f\"Do you study in {info['school']}?\")\n",
        "  if \"age\" in info:\n",
        "    print(f\"I think your age is {info['age']}.\")\n",
        "keyword_args_foo(2025, name=\"Maaz\", school=\"42\", age=23)"
      ]
    },
    {
      "cell_type": "code",
      "execution_count": 25,
      "metadata": {
        "colab": {
          "base_uri": "https://localhost:8080/"
        },
        "id": "N9TrP8bq9SPI",
        "outputId": "eaaee988-d7bf-45ab-9d0b-f83ca20b2076"
      },
      "outputs": [
        {
          "name": "stdout",
          "output_type": "stream",
          "text": [
            "sum of 1 & 2 is 3\n",
            "Here are some random numbers:\n",
            "81 28 67 \n",
            "Now some random named-numbers\n",
            "school: 42\n",
            "gravity: 9.8\n"
          ]
        }
      ],
      "source": [
        "# Python's Function Argument Order (Strict Rules)\n",
        "# In Python, function parameters must follow this order:\n",
        "  # Positional arguments (a, b, c)\n",
        "  # *args (Positional variable-length arguments)\n",
        "  # Keyword arguments (x=1, y=2)\n",
        "def ordered_args_foo(a: int, b: int, *nums, **named_nums) -> int:\n",
        "  print(f\"sum of {a} & {b} is {a + b}\")\n",
        "  print(\"Here are some random numbers:\")\n",
        "  for num in nums:\n",
        "    print(f\"{num} \", end=\"\")\n",
        "  print()\n",
        "  print(\"Now some random named-numbers\")\n",
        "  for key, value in named_nums.items():\n",
        "    print(f\"{key}: {value}\")\n",
        "\n",
        "ordered_args_foo(1, 2, 81, 28, 67, school=42, gravity=9.8)"
      ]
    },
    {
      "cell_type": "code",
      "execution_count": 28,
      "metadata": {
        "colab": {
          "base_uri": "https://localhost:8080/"
        },
        "id": "oi1exdh2EEJj",
        "outputId": "6e5358bf-e8b9-450b-f4e8-f93815fd5deb"
      },
      "outputs": [
        {
          "name": "stdout",
          "output_type": "stream",
          "text": [
            "Hello Maaz\n",
            "Hello Taha\n"
          ]
        }
      ],
      "source": [
        "# Functions vs Methods\n",
        "  # Function: A function is independent and can be used anywhere in your code.\n",
        "  # A function is a standalone block of code that can be called with specific arguments.\n",
        "\n",
        "  # Method: A method is tied to an object and is part of the object’s behavior or the class's functionality.\n",
        "  # A method is a function that belongs to an object (or class) and is called on that object.\n",
        "\n",
        "def greet(name: str) -> str:\n",
        "  return (f\"Hello {name}\")\n",
        "\n",
        "# a function\n",
        "print(greet(\"Maaz\"))\n",
        "\n",
        "class Greeter:\n",
        "  def greets(name: str) -> str:\n",
        "    return (f\"Hello {name}\")\n",
        "\n",
        "# a method\n",
        "print(Greeter.greets(\"Taha\"))"
      ]
    },
    {
      "cell_type": "code",
      "execution_count": null,
      "metadata": {},
      "outputs": [],
      "source": [
        "# Import in pyhton\n",
        "# Importing the entire module\n",
        "import math_operations\n",
        "sum = math_operations.add(3, 4)\n",
        "\n",
        "# Import specific functions from the module\n",
        "from math_operations import add, subtract\n",
        "sum = add(3, 4)\n",
        "\n",
        "# Importing the module with an alias\n",
        "import math_operations as mo\n",
        "sum = mo.add(3, 4)"
      ]
    },
    {
      "cell_type": "code",
      "execution_count": null,
      "metadata": {},
      "outputs": [],
      "source": [
        "# dunder attributes : double underscore attributes\n",
        "# used to store metadata about objects like classes, functions, and modules.\n",
        "\n",
        "# Common Special Attributes (dunder)\n",
        "\n",
        "# __name__\n",
        "# Stores the name of a class, function, or module.\n",
        "class Name:\n",
        "  def foo():\n",
        "    pass\n",
        "\n",
        "print(Name.__name__)\n",
        "print(Name.foo.__name__)\n",
        "\n",
        "# __doc__\n",
        "# Stores the docstring of a function, class, or module.\n",
        "class Greeter:\n",
        "  \"\"\"docstring of class\"\"\"\n",
        "  def greet():\n",
        "    \"\"\"docstring of function\"\"\"\n",
        "    print(\"Good Morning\")\n",
        "\n",
        "print(Greeter.__doc__)\n",
        "print(Greeter.greet.__doc__)"
      ]
    },
    {
      "cell_type": "code",
      "execution_count": 18,
      "metadata": {
        "colab": {
          "base_uri": "https://localhost:8080/"
        },
        "id": "eMscZlinFLou",
        "outputId": "d8ff18c3-c287-4d33-95fa-2d73719ff98b"
      },
      "outputs": [],
      "source": [
        "# ex02\n",
        "# find_ft_type.py\n",
        "\n",
        "def all_thing_is_obj(object: any) -> int:\n",
        "  type_name = type(object).__name__.capitalize()\n",
        "  if isinstance(object, str):\n",
        "    print(f\"{object} is in the kitchen : {type(object)}\")\n",
        "  elif type_name in [\"List\", \"Tuple\", \"Set\", \"Dict\"]:\n",
        "    print(f\"{type_name} : {type(object)}\")\n",
        "  return (42)\n",
        "\n",
        "ft_list = [\"Hello\", \"tata!\"]\n",
        "ft_tuple = (\"Hello\", \"toto!\")\n",
        "ft_set = {\"Hello\", \"tutu!\"}\n",
        "ft_dict = {\"Hello\" : \"titi!\"}\n",
        "\n",
        "all_thing_is_obj(ft_list)\n",
        "all_thing_is_obj(ft_tuple)\n",
        "all_thing_is_obj(ft_set)\n",
        "all_thing_is_obj(ft_dict)\n",
        "all_thing_is_obj(\"Brian\")\n",
        "all_thing_is_obj(\"Toto\")\n",
        "print(all_thing_is_obj(10))"
      ]
    },
    {
      "cell_type": "code",
      "execution_count": null,
      "metadata": {},
      "outputs": [],
      "source": [
        "# tester.py:\n",
        "from find_ft_type import all_thing_is_obj\n",
        "\n",
        "ft_list = [\"Hello\", \"tata!\"]\n",
        "ft_tuple = (\"Hello\", \"toto!\")\n",
        "ft_set = {\"Hello\", \"tutu!\"}\n",
        "ft_dict = {\"Hello\" : \"titi!\"}\n",
        "\n",
        "all_thing_is_obj(ft_list)\n",
        "all_thing_is_obj(ft_tuple)\n",
        "all_thing_is_obj(ft_set)\n",
        "all_thing_is_obj(ft_dict)\n",
        "all_thing_is_obj(\"Brian\")\n",
        "all_thing_is_obj(\"Toto\")\n",
        "print(all_thing_is_obj(10))"
      ]
    },
    {
      "cell_type": "code",
      "execution_count": null,
      "metadata": {
        "id": "Lm6ISI8wHmWb",
        "vscode": {
          "languageId": "shellscript"
        }
      },
      "outputs": [],
      "source": [
        "# do\n",
        "python tester.py | cat -e\n",
        "python find_ft_type.py | cat -e"
      ]
    }
  ],
  "metadata": {
    "colab": {
      "provenance": []
    },
    "kernelspec": {
      "display_name": "Python 3",
      "name": "python3"
    },
    "language_info": {
      "codemirror_mode": {
        "name": "ipython",
        "version": 3
      },
      "file_extension": ".py",
      "mimetype": "text/x-python",
      "name": "python",
      "nbconvert_exporter": "python",
      "pygments_lexer": "ipython3",
      "version": "3.13.1"
    }
  },
  "nbformat": 4,
  "nbformat_minor": 0
}
