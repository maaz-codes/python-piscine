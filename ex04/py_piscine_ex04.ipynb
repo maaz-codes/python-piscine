{
  "nbformat": 4,
  "nbformat_minor": 0,
  "metadata": {
    "colab": {
      "provenance": []
    },
    "kernelspec": {
      "name": "python3",
      "display_name": "Python 3"
    },
    "language_info": {
      "name": "python"
    }
  },
  "cells": [
    {
      "cell_type": "code",
      "execution_count": null,
      "metadata": {
        "id": "H0GkkwDeu0Fj"
      },
      "outputs": [],
      "source": [
        "# Command Line Arguments\n",
        "# command line arguments are the parameters passed to a Python script when it is executed from the terminal.\n",
        "\n",
        "import sys\n",
        "\n",
        "def foo():\n",
        "  print(sys.agrv)\n",
        "foo()"
      ]
    },
    {
      "cell_type": "code",
      "source": [
        "# Type Checking and Conversion in Python\n",
        "\n",
        "# int() -> it raises a valueError if not an integer\n",
        "def py_atoi(num: str) -> int:\n",
        "  return int(num)\n",
        "\n",
        "print(py_atoi(\"123\"))"
      ],
      "metadata": {
        "colab": {
          "base_uri": "https://localhost:8080/"
        },
        "id": "goMLTdhkWjqk",
        "outputId": "90df42e1-74e7-47a0-d4a4-05d325b68420"
      },
      "execution_count": 5,
      "outputs": [
        {
          "output_type": "stream",
          "name": "stdout",
          "text": [
            "123\n"
          ]
        }
      ]
    },
    {
      "cell_type": "code",
      "source": [
        "# Error handling in Python is done using exceptions\n",
        "\n",
        "# Basic Structure of Error Handling:\n",
        "try:\n",
        "    # Code that might raise an exception\n",
        "    risky_code()\n",
        "except SomeException as e:\n",
        "    # Handle the exception (error) if it occurs\n",
        "    print(f\"An error occurred: {e}\")\n",
        "else:\n",
        "    # Code that runs if no exception occurred\n",
        "    print(\"Everything worked fine!\")\n",
        "finally:\n",
        "    # Code that will run no matter what (cleanup, for example)\n",
        "    print(\"This runs no matter what.\")\n"
      ],
      "metadata": {
        "id": "q5838fbxXq-9"
      },
      "execution_count": null,
      "outputs": []
    },
    {
      "cell_type": "code",
      "source": [
        "# Catching Exceptions:\n",
        "  # Catching all Exceptions:\n",
        "    # except Exception as e:\n",
        "        # print(f\"An error occurred: {e}\")\n",
        "\n",
        "  # Catching specific Error:\n",
        "    # except ValueError:\n",
        "        # print(\"This is ValueError!\")\n",
        "    # except TypeError:\n",
        "        # print(\"This is TypeError!\")\n",
        "\n",
        "# Raising Exceptions:\n",
        "  # functions raise exceptions automatically, but you can too:\n",
        "\n",
        "def check_age(age):\n",
        "  if age < 0:\n",
        "    raise ValueError(\"Age cannot be negative.\")\n",
        "  return age\n",
        "\n",
        "try:\n",
        "  check_age(-1)\n",
        "except ValueError as e:\n",
        "  print(f\"Error: {e}\")\n",
        "\n",
        "##IMP: If an exception is raised, it needs to be caught by some try-except block.\n"
      ],
      "metadata": {
        "colab": {
          "base_uri": "https://localhost:8080/"
        },
        "id": "58ojpeF0fIzo",
        "outputId": "37eb806b-2d21-4d3c-a952-3dddc4b353cc"
      },
      "execution_count": 18,
      "outputs": [
        {
          "output_type": "stream",
          "name": "stdout",
          "text": [
            "Error: Age cannot be negative.\n"
          ]
        }
      ]
    },
    {
      "cell_type": "code",
      "source": [
        "# Assertion Error:\n",
        "  # An AssertionError in Python occurs when an assert statement fails.\n",
        "  # The assert keyword is used to test if a condition is true,\n",
        "  # and if the condition is false, Python raises an AssertionError\n",
        "\n",
        "def club_entry(age: int) -> int:\n",
        "  assert age > 0, \"Age shouldn't be negative\"\n",
        "  if age > 22 :\n",
        "    print(\"You are allowed.\")\n",
        "  else :\n",
        "    print(\"You are not allowed.\")\n",
        "\n",
        "try:\n",
        "  club_entry(12)\n",
        "except AssertionError as e:\n",
        "  print(f\"Assertion failed: {e}\")"
      ],
      "metadata": {
        "colab": {
          "base_uri": "https://localhost:8080/"
        },
        "id": "UCYKxSl9eSfZ",
        "outputId": "ac53f754-a7e0-43fd-b9c9-6923da280199"
      },
      "execution_count": 17,
      "outputs": [
        {
          "output_type": "stream",
          "name": "stdout",
          "text": [
            "You are not allowed.\n"
          ]
        }
      ]
    }
  ]
}