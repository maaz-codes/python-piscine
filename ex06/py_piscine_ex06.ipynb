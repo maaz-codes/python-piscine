{
  "nbformat": 4,
  "nbformat_minor": 0,
  "metadata": {
    "colab": {
      "provenance": []
    },
    "kernelspec": {
      "name": "python3",
      "display_name": "Python 3"
    },
    "language_info": {
      "name": "python"
    }
  },
  "cells": [
    {
      "cell_type": "code",
      "execution_count": null,
      "metadata": {
        "colab": {
          "base_uri": "https://localhost:8080/"
        },
        "id": "r-imf6tZqorg",
        "outputId": "e3f9c83c-6650-4e46-9858-625c2b81571b"
      },
      "outputs": [
        {
          "output_type": "stream",
          "name": "stdout",
          "text": [
            "[1, 2, 3, 4, 5, 6]\n",
            "[2, 4, 6]\n"
          ]
        }
      ],
      "source": [
        "# filter function\n",
        "\n",
        "def is_even(n: int):\n",
        "  return n % 2 == 0\n",
        "\n",
        "numbers = [1, 2, 3, 4, 5, 6]\n",
        "filtered_numbers = filter(is_even, numbers)\n",
        "print(numbers)\n",
        "print(list(filtered_numbers))"
      ]
    },
    {
      "cell_type": "code",
      "source": [
        "# lambda functions\n",
        "  # A lambda function is a small anonymous function in Python, defined using the keyword lambda\n",
        "\n",
        "# lambda arguments: expression\n",
        "\n",
        "add = lambda x, y: x + y\n",
        "print(add(2, 3))\n",
        "\n",
        "numbers = (1, 2, 3, 4, 5, 6, 7, 8, 9, 10)\n",
        "print(list(filter(lambda x: x % 5 == 0, numbers)))"
      ],
      "metadata": {
        "colab": {
          "base_uri": "https://localhost:8080/"
        },
        "id": "JWT-HYQDrfmp",
        "outputId": "afe38cbb-3319-49f0-f4bf-77a7673d69dd"
      },
      "execution_count": null,
      "outputs": [
        {
          "output_type": "stream",
          "name": "stdout",
          "text": [
            "5\n",
            "[5, 10]\n"
          ]
        }
      ]
    },
    {
      "cell_type": "code",
      "source": [
        "# What is an Iterator?\n",
        "  # An iterator is an object in Python that allows you to traverse through\n",
        "  # all the elements of an iterable (like a list, tuple, dictionary, etc.\n",
        "\n",
        "# Key Properties of an Iterator:\n",
        "  # __iter__(): This method returns the iterator object itself.\n",
        "  # __next__(): This method returns the next item from the iterable.\n",
        "  # When there are no more items to return, it raises the StopIteration exception, signaling the end of the iteration.\n",
        "\n",
        "ft_list = [1, 2, 3]\n",
        "iterator = iter(ft_list) # craetes an iterator from the list\n",
        "print(iterator.__next__())\n",
        "print(iterator.__next__())\n",
        "print(iterator.__next__())"
      ],
      "metadata": {
        "colab": {
          "base_uri": "https://localhost:8080/"
        },
        "id": "rqLJiiMIsUpQ",
        "outputId": "c44680a8-5bc7-4e28-fec4-119e71fff816"
      },
      "execution_count": null,
      "outputs": [
        {
          "output_type": "stream",
          "name": "stdout",
          "text": [
            "1\n",
            "2\n",
            "3\n"
          ]
        }
      ]
    },
    {
      "cell_type": "code",
      "source": [
        "# List Comprehensions in Python\n",
        "  # A list comprehension is a concise way to create lists in Python.\n",
        "\n",
        "# Basic Syntax\n",
        "# new_list = [expression for item in iterable if condition]\n",
        "\n",
        "# Creating list without List Comprehensions\n",
        "numbers = [1, 2, 3, 4, 5]\n",
        "squares = []\n",
        "for num in numbers:\n",
        "  squares.append(num ** 2) # ** = power\n",
        "\n",
        "print(f\"Without List Comprehensions = {squares}\")"
      ],
      "metadata": {
        "colab": {
          "base_uri": "https://localhost:8080/"
        },
        "id": "H7GMK1-WwQjT",
        "outputId": "cf7aa065-cc15-4e65-e07a-1d2b6af51d6a"
      },
      "execution_count": null,
      "outputs": [
        {
          "output_type": "stream",
          "name": "stdout",
          "text": [
            "Without List Comprehensions = [1, 4, 9, 16, 25]\n"
          ]
        }
      ]
    },
    {
      "cell_type": "code",
      "source": [
        "# Using List Comprehensions\n",
        "\n",
        "numbers = [1, 2, 3, 4, 5, 6, 7, 8, 9, 10]\n",
        "even_squares = [num ** 2 for num in numbers if num % 2 == 0]\n",
        "print(f\"Basic use = {even_squares}\")\n",
        "\n",
        "# Using Nested Loops in List Comprehensions\n",
        "\n",
        "pairs = [(x, y) for x in [1, 2] for y in ['a', 'b']]\n",
        "print(f\"Nested List Comprehensions = {pairs}\")"
      ],
      "metadata": {
        "colab": {
          "base_uri": "https://localhost:8080/"
        },
        "id": "WXKjtRYCxOGU",
        "outputId": "0f6e7b18-6c62-47c2-911d-ee9cf2f5c031"
      },
      "execution_count": null,
      "outputs": [
        {
          "output_type": "stream",
          "name": "stdout",
          "text": [
            "Basic use = [4, 16, 36, 64, 100]\n",
            "Nested List Comprehensions = [(1, 'a'), (1, 'b'), (2, 'a'), (2, 'b')]\n"
          ]
        }
      ]
    },
    {
      "cell_type": "code",
      "source": [
        "# When not use List Comprehensions\n",
        "  # When logic is too complex → Use a regular loop for better readability.\n",
        "  # When modifying an existing list → Use .append() inside a loop."
      ],
      "metadata": {
        "id": "bhl_DVnkye88"
      },
      "execution_count": null,
      "outputs": []
    },
    {
      "cell_type": "code",
      "source": [
        "# Example - Practice\n",
        "# Convert Words to Uppercase (Only Short Words)\n",
        "\n",
        "words = [\"Maaz\", \"Taha\", \"42\", \"India\", \"Morocco\"]\n",
        "new_list = [word.upper() for word in words if len(word) <= 4]\n",
        "print(new_list)\n",
        "\n",
        "new_og_list = [word.upper() if len(word) <= 4 else word for word in words]\n",
        "print(new_og_list)"
      ],
      "metadata": {
        "colab": {
          "base_uri": "https://localhost:8080/"
        },
        "id": "5IPduMuKyxqg",
        "outputId": "7f2294da-7ecc-44a1-bda5-337df79176a0"
      },
      "execution_count": null,
      "outputs": [
        {
          "output_type": "stream",
          "name": "stdout",
          "text": [
            "['MAAZ', 'TAHA', '42']\n",
            "['MAAZ', 'TAHA', '42', 'India', 'Morocco']\n"
          ]
        }
      ]
    },
    {
      "cell_type": "code",
      "source": [
        "# Handling Cases Where No Words Meet the Condition (Empty List)\n",
        "\n",
        "words = [\"India\", \"Morocco\", \"United Arab Emirates\"]\n",
        "# Default msg using 'or'\n",
        "short_words = [word.upper() for word in words if len(word) <= 3] or \"No words\"\n",
        "print(f\"Using 'or' : {short_words}\")\n",
        "\n",
        "# Using Ternary\n",
        "shorter_words = [word.upper() for word in words if len(word) <= 3]\n",
        "print(f\"Using ternary : {shorter_words if shorter_words else 'No words'}\")\n",
        "\n",
        "# Checking with if condition\n",
        "if shorter_words:\n",
        "  print(shorter_words)\n",
        "else:\n",
        "  print(f\"Using if conditions : OG List = {words}\")"
      ],
      "metadata": {
        "colab": {
          "base_uri": "https://localhost:8080/"
        },
        "id": "OUX-zoXy1_ac",
        "outputId": "081c8827-1896-44f8-f74f-ae7dbe8f5261"
      },
      "execution_count": null,
      "outputs": [
        {
          "output_type": "stream",
          "name": "stdout",
          "text": [
            "Using 'or' : No words\n",
            "Using ternary : No words\n",
            "Using if conditions : OG List = ['India', 'Morocco', 'United Arab Emirates']\n"
          ]
        }
      ]
    }
  ]
}