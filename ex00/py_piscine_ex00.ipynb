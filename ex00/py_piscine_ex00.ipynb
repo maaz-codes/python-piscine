{
  "nbformat": 4,
  "nbformat_minor": 0,
  "metadata": {
    "colab": {
      "provenance": []
    },
    "kernelspec": {
      "name": "python3",
      "display_name": "Python 3"
    },
    "language_info": {
      "name": "python"
    }
  },
  "cells": [
    {
      "cell_type": "code",
      "execution_count": 53,
      "metadata": {
        "colab": {
          "base_uri": "https://localhost:8080/"
        },
        "id": "jQpoti11V3NV",
        "outputId": "cf789d6c-f6ca-44f6-9494-1ec52845b311"
      },
      "outputs": [
        {
          "output_type": "stream",
          "name": "stdout",
          "text": [
            "Hello World, I am Ai and am 42 years old.\n",
            "Hello World, I am Ai and am 42 years old.\n",
            "Hello World, I am Ai and am 42 years old.\n",
            "Hello World!\n"
          ]
        }
      ],
      "source": [
        "# using print and different string formatting\n",
        "name = \"Ai\"\n",
        "age = 42\n",
        "\n",
        "print(f\"Hello World, I am {name} and am {age} years old.\") # called f-strings\n",
        "print(\"Hello World, I am {} and am {} years old.\".format(name, age))\n",
        "print(\"Hello World, I am %s and am %d years old.\" % (name, age))\n",
        "\n",
        "# printing without new-line\n",
        "print(\"Hello \", end=\"\")\n",
        "print(\"World!\")"
      ]
    },
    {
      "cell_type": "code",
      "source": [
        "# Lists (list) – Mutable Sequences (just like an array in C)\n",
        "\n",
        "list = [\"Hello\", 42, 42.42, [\"Hello\", \"World\"]]\n",
        "print(list[0])\n",
        "print(list[3][1])\n",
        "\n",
        "# operations\n",
        "list.append(\"Hello\") # ['Hello', 42, 42.42, ['Hello', 'World'], 'Hello']\n",
        "list.pop() # ['Hello', 42, 42.42, ['Hello', 'World']]\n",
        "list.insert(1, \"World\")\n",
        "print(list)"
      ],
      "metadata": {
        "colab": {
          "base_uri": "https://localhost:8080/",
          "height": 0
        },
        "id": "JxKpues1Z11t",
        "outputId": "80a3d6e1-d081-4686-ecf0-95d21d6a5d9f"
      },
      "execution_count": 27,
      "outputs": [
        {
          "output_type": "stream",
          "name": "stdout",
          "text": [
            "Hello\n",
            "World\n",
            "['Hello', 'World', 42, 42.42, ['Hello', 'World']]\n"
          ]
        }
      ]
    },
    {
      "cell_type": "code",
      "source": [
        "# Tuples (tuple) – Immutable Sequences (like const arr[] in C)\n",
        "\n",
        "tup = (1, \"Hello\", \"World\", 42.42)\n",
        "print(tup[1], tup[2])\n",
        "\n",
        "# Why Use Tuples?\n",
        "  # Immutable → Faster than lists (better for read-only data).\n",
        "  # Hashable → Can be used as dictionary keys or set elements.\n",
        "  # More Memory Efficient → Stored in a single block (vs. dynamic resizing in lists)."
      ],
      "metadata": {
        "colab": {
          "base_uri": "https://localhost:8080/",
          "height": 0
        },
        "id": "DgtDUHIMcHiZ",
        "outputId": "0684c8d0-4b6a-4435-9d07-ae583b1d407a"
      },
      "execution_count": 30,
      "outputs": [
        {
          "output_type": "stream",
          "name": "stdout",
          "text": [
            "Hello World\n"
          ]
        }
      ]
    },
    {
      "cell_type": "code",
      "source": [
        "# Sets (set) – Unordered Collections of Unique Values\n",
        "s = {1, 3, 2, 3, \"Hello\", \"3\", \"Hello\"}\n",
        "print(\"set:\", s)\n",
        "\n",
        "s.add(42)\n",
        "s.remove(\"3\")\n",
        "s.discard(100)\n",
        "print(\"new set:\", s)\n",
        "\n",
        "# sets are fast - (0)1\n",
        "if 3 in s:\n",
        "  print(\"exists\")\n",
        "\n",
        "# Why Use Sets?\n",
        "  # Unordered & Unique → Automatically removes duplicates.\n",
        "  # Fast Membership Testing (O(1))\n",
        "  # Useful for Mathematical Operations"
      ],
      "metadata": {
        "colab": {
          "base_uri": "https://localhost:8080/"
        },
        "id": "rvxqky5gdZWK",
        "outputId": "05019702-5671-417a-cd9c-39403785d18e"
      },
      "execution_count": 37,
      "outputs": [
        {
          "output_type": "stream",
          "name": "stdout",
          "text": [
            "set: {1, 2, 3, '3', 'Hello'}\n",
            "new set: {1, 2, 3, 42, 'Hello'}\n",
            "exists\n"
          ]
        }
      ]
    },
    {
      "cell_type": "code",
      "source": [
        "# Dictionaries (dict) – Key-Value Pairs\n",
        "tup = (1)\n",
        "dic = {\"name\": \"maaz\", \"age\": 23}\n",
        "print(dic)\n",
        "print(dic[\"name\"])\n",
        "\n",
        "# muatablity\n",
        "dic[\"name\"] = \"Ai\" # update value\n",
        "dic[\"school\"] = \"42AD\" # add key\n",
        "print(dic)\n",
        "\n",
        "# methods\n",
        "print(dic.keys()) # get all keys\n",
        "print(dic.values()) # get all values\n",
        "print(dic.items()) # get key-value pairs"
      ],
      "metadata": {
        "colab": {
          "base_uri": "https://localhost:8080/"
        },
        "id": "N_XCOcHTiZXC",
        "outputId": "3012f0f2-2c00-4a04-d005-365eef7f1326"
      },
      "execution_count": 46,
      "outputs": [
        {
          "output_type": "stream",
          "name": "stdout",
          "text": [
            "{'name': 'maaz', 'age': 23}\n",
            "maaz\n",
            "{'name': 'Ai', 'age': 23, 'school': '42AD'}\n",
            "dict_keys(['name', 'age', 'school'])\n",
            "dict_values(['Ai', 23, '42AD'])\n",
            "dict_items([('name', 'Ai'), ('age', 23), ('school', '42AD')])\n"
          ]
        }
      ]
    },
    {
      "cell_type": "code",
      "source": [
        "# ex00\n",
        "ft_list = [\"Hello\", \"tata!\"]\n",
        "ft_tuple = (\"Hello\", \"toto!\")\n",
        "ft_set = {\"Hello\", \"tutu!\"}\n",
        "ft_dict = {\"Hello\" : \"titi!\"}\n",
        "\n",
        "# your code here\n",
        "ft_list[1] = \"World\"\n",
        "\n",
        "ft_tuple = (\"Hello\", \"UAE\")\n",
        "\n",
        "ft_set.discard(\"tutu!\")\n",
        "ft_set.add(\"Abu Dhabi\")\n",
        "\n",
        "ft_dict[\"Hello\"] = \"42 Abu Dhabi\"\n",
        "\n",
        "print(ft_list)\n",
        "print(ft_tuple)\n",
        "print(ft_set)\n",
        "print(ft_dict)"
      ],
      "metadata": {
        "colab": {
          "base_uri": "https://localhost:8080/"
        },
        "id": "famGdJ_klG6q",
        "outputId": "f2e95d56-bb34-4e00-a736-e83897e3177f"
      },
      "execution_count": 58,
      "outputs": [
        {
          "output_type": "stream",
          "name": "stdout",
          "text": [
            "['Hello', 'World', 'tata!']\n",
            "('Hello', 'UAE')\n",
            "{'Abu Dhabi', 'Hello'}\n",
            "{'Hello': '42 Abu Dhabi'}\n"
          ]
        }
      ]
    }
  ]
}