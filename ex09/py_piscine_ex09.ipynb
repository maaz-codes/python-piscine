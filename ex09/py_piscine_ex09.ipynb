{
  "nbformat": 4,
  "nbformat_minor": 0,
  "metadata": {
    "colab": {
      "provenance": []
    },
    "kernelspec": {
      "name": "python3",
      "display_name": "Python 3"
    },
    "language_info": {
      "name": "python"
    }
  },
  "cells": [
    {
      "cell_type": "code",
      "execution_count": null,
      "metadata": {
        "id": "koPqWIu4u9b8"
      },
      "outputs": [],
      "source": [
        "# Module\n",
        "  # A single Python file containing code (functions, classes, variable).\n",
        "\n",
        "# Packages\n",
        "  # A collection of modules stored in a directory. the directory must contain an __init__.py file (even if empty).\n",
        "\n",
        "# __init__.py\n",
        "  # Marks a directory as a package and can initialize the package."
      ]
    },
    {
      "cell_type": "code",
      "source": [
        "# Module example\n",
        "\n",
        "# file_name: add.py\n",
        "def add(x: int, y: int) -> int:\n",
        "  return x + y\n",
        "\n",
        "# file_name: multiply.py\n",
        "def multiply(x: int, y: int) -> int:\n",
        "  return x * y"
      ],
      "metadata": {
        "id": "CrNaODrhxzkS"
      },
      "execution_count": null,
      "outputs": []
    },
    {
      "cell_type": "code",
      "source": [
        "# Package example\n",
        "\n",
        "# directory: maths_operations\n",
        "  # |-- __init__.py\n",
        "  # |-- add.py\n",
        "  # |-- multiply.py"
      ],
      "metadata": {
        "id": "bik4TH_ByO4G"
      },
      "execution_count": null,
      "outputs": []
    },
    {
      "cell_type": "code",
      "source": [
        "# Using module from package\n",
        "\n",
        "from maths_operations import add, multiply\n",
        "\n",
        "print(add.add(2, 3))\n",
        "print(multiply.multiply(2, 3))"
      ],
      "metadata": {
        "id": "RAXqlPJryxib"
      },
      "execution_count": null,
      "outputs": []
    },
    {
      "cell_type": "code",
      "source": [
        "# Dynamic imports\n",
        "  # Python’s import system allows dynamic imports, which means you can import modules or packages during runtime.\n",
        "\n",
        "module_name = \"add\"\n",
        "math_operation = __import__(module_name)\n",
        "print(math_operation.add(5, 6))"
      ],
      "metadata": {
        "id": "OYDM4I1vzlnd"
      },
      "execution_count": null,
      "outputs": []
    },
    {
      "cell_type": "code",
      "source": [
        "# Writing setup.py and pyproject.toml for Packaging Python Projects\n",
        "  # When packaging a Python project, you need to define metadata, dependencies, and versioning\n",
        "  # so that your package can be installed and distributed properly.\n",
        "\n",
        "# Two main approaches for defining package configurations:\n",
        "  # Old Method: setup.py (with setuptools)\n",
        "  # Modern Method: pyproject.toml (PEP 518 standard)"
      ],
      "metadata": {
        "id": "R5DYhCVc4skw"
      },
      "execution_count": null,
      "outputs": []
    },
    {
      "cell_type": "code",
      "source": [
        "# Writing setup.py\n",
        "  # setup.py is a script that defines how your package should be installed and distributed.\n",
        "\n",
        "from setuptools import setup, find_packages\n",
        "\n",
        "setup(\n",
        "    name=\"maths_operations\",\n",
        "    version=\"0.1.0\", # semantic versioning: Major.Minor.Patch\n",
        "    author=\"Maaz Khan\",\n",
        "    author_email=\"maazkhan@gmail.com\",\n",
        "    description=\"A collection of mathematic operations\",\n",
        "    long_description=open(\"README.md\").read(),\n",
        "    long_description_content_type=\"text/markdown\",\n",
        "    url=\"https://github.com/maazkhan/maths_operations\",\n",
        "    packages=find_packages(), # Automatically finds all the packages in the directory\n",
        "    install_requires=[\"numpy>=1.21.0\"],  # List dependencies\n",
        "    classifiers=[\n",
        "        \"Programming Language :: Python :: 3\",\n",
        "        \"License :: OSI Approved :: MIT License\",\n",
        "        \"Operating System :: OS Independent\",\n",
        "    ],\n",
        "    python_requires=\">=3.1\", # Minimum Python version required\n",
        ")\n",
        "\n",
        "# Building and Installing Locally:\n",
        "\n",
        "  # python setup.py sdist bdist_wheel  # Build package\n",
        "  # pip install .  # Install locally"
      ],
      "metadata": {
        "id": "1wkBiNyt5SsD"
      },
      "execution_count": null,
      "outputs": []
    },
    {
      "cell_type": "code",
      "source": [
        "# Writing pyproject.toml\n",
        "  # The modern approach uses pyproject.toml, which is more structured and works with tools like poetry and pip.\n",
        "\n",
        "[build-system]\n",
        "requires = [\"setuptools>=61.0\"]\n",
        "build-backend = \"setuptools.build_meta\"\n",
        "\n",
        "[project]\n",
        "name = \"mytools\"\n",
        "version = \"0.1.0\"\n",
        "description = \"A collection of utility functions for lists\"\n",
        "readme = \"README.md\"\n",
        "authors = [{ name = \"Your Name\", email = \"your.email@example.com\" }]\n",
        "license = { text = \"MIT\" }\n",
        "dependencies = [\n",
        "    \"numpy>=1.21.0\"\n",
        "]\n",
        "requires-python = \">=3.7\"\n",
        "\n",
        "[project.urls]\n",
        "Homepage = \"https://github.com/yourusername/mytools\"\n",
        "\n",
        "\n",
        "# Building and Installing Locally\n",
        "\n",
        "  # pip install build  # Ensure build tool is installed\n",
        "  # python -m build  # Create distribution files\n",
        "  # pip install .  # Install locally"
      ],
      "metadata": {
        "id": "jsAqWzCtMXpm"
      },
      "execution_count": null,
      "outputs": []
    }
  ]
}