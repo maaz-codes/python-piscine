{
  "nbformat": 4,
  "nbformat_minor": 0,
  "metadata": {
    "colab": {
      "provenance": []
    },
    "kernelspec": {
      "name": "python3",
      "display_name": "Python 3"
    },
    "language_info": {
      "name": "python"
    }
  },
  "cells": [
    {
      "cell_type": "code",
      "source": [
        "# To find the variable name and its value by searching the dictionary for the value.\n",
        "# locals() returns a dictionary of the local symbol table (for local variables in the current scope).\n",
        "# globals() returns a dictionary of the global symbol table (for global variables).\n",
        "\n",
        "a = 10\n",
        "name = \"Maaz\"\n",
        "\n",
        "# globals()\n",
        "def var_name_finder(var: any):\n",
        "  for name, value in globals().items():\n",
        "    if var is value:\n",
        "      print(f\"{name} : {value}\")\n",
        "# locals()\n",
        "def local_var_finder():\n",
        "  a = 10\n",
        "  b = 20\n",
        "  name = \"Taha\"\n",
        "  print(locals())\n",
        "\n",
        "var_name_finder(a)\n",
        "var_name_finder(name)\n",
        "\n",
        "local_var_finder()"
      ],
      "metadata": {
        "colab": {
          "base_uri": "https://localhost:8080/"
        },
        "id": "tsRL9SsHYkNh",
        "outputId": "cebb52bc-598b-4cdc-d8aa-288ca6403424"
      },
      "execution_count": 13,
      "outputs": [
        {
          "output_type": "stream",
          "name": "stdout",
          "text": [
            "a : 10\n",
            "name : Maaz\n",
            "{'a': 10, 'b': 20, 'name': 'Taha'}\n"
          ]
        }
      ]
    },
    {
      "cell_type": "code",
      "source": [
        "# Types of NULL in python\n",
        "\n",
        "def NULL_not_found(object: any) -> int:\n",
        "  var_name = \"\"\n",
        "  for name, value in globals().items():\n",
        "    if object is value:\n",
        "      var_name = name\n",
        "  if var_name == \"\":\n",
        "    print(\"Type not Found\")\n",
        "    return 1\n",
        "  else:\n",
        "    print(f\"{var_name}: {object} {type(object)}\")\n",
        "    return 0\n",
        "\n",
        "Nothing = None\n",
        "Garlic = float(\"NaN\")\n",
        "Zero = 0\n",
        "Empty = ''\n",
        "Fake = False\n",
        "NULL_not_found(Nothing)\n",
        "NULL_not_found(Garlic)\n",
        "NULL_not_found(Zero)\n",
        "NULL_not_found(Empty)\n",
        "NULL_not_found(Fake)\n",
        "print(NULL_not_found(\"Brian\"))\n"
      ],
      "metadata": {
        "colab": {
          "base_uri": "https://localhost:8080/"
        },
        "id": "9WzQTLtkb4Ty",
        "outputId": "a57f7eef-29f9-4ea4-f737-1403cbd062e6"
      },
      "execution_count": 27,
      "outputs": [
        {
          "output_type": "stream",
          "name": "stdout",
          "text": [
            "Nothing: None <class 'NoneType'>\n",
            "Garlic: nan <class 'float'>\n",
            "Zero: 0 <class 'int'>\n",
            "Empty:  <class 'str'>\n",
            "Fake: False <class 'bool'>\n",
            "Type not Found\n",
            "1\n"
          ]
        }
      ]
    }
  ]
}