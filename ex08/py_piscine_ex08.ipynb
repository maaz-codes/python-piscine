{
  "nbformat": 4,
  "nbformat_minor": 0,
  "metadata": {
    "colab": {
      "provenance": []
    },
    "kernelspec": {
      "name": "python3",
      "display_name": "Python 3"
    },
    "language_info": {
      "name": "python"
    }
  },
  "cells": [
    {
      "cell_type": "code",
      "source": [
        "# Understanding Generators and yield in Python\n",
        "\n",
        "#  - Generators in Python are a powerful way to create  iterators efficiently.\n",
        "    # Unlike normal functions that return values and terminate,\n",
        "    # genetators produce a squence of values lazily, using the yield keyword.\n",
        "# - generators can pause execution and later resume from where they left off.\n",
        "\n",
        "# regular function\n",
        "def normal_squares(n):\n",
        "  result = []\n",
        "  for i in range(n):\n",
        "    result.append(i * i)\n",
        "  return result\n",
        "\n",
        "print(normal_squares(4))\n",
        "\n",
        "# generator function\n",
        "def gen_squares(n):\n",
        "  for i in range(n):\n",
        "    yield i * i\n",
        "\n",
        "gen = gen_squares(4) # creating a generator object\n",
        "print(next(gen))\n",
        "print(next(gen))\n",
        "print(next(gen))\n",
        "print(next(gen))\n",
        "\n",
        "# Generators in a loop\n",
        "loop_gen = gen_squares(4)\n",
        "print(\"Gen in Loop:\")\n",
        "for squares in loop_gen:\n",
        "  print(squares, end=\", \")"
      ],
      "metadata": {
        "colab": {
          "base_uri": "https://localhost:8080/"
        },
        "id": "mrFnxJNDO-VX",
        "outputId": "7ed43dcb-3d51-4d79-8851-2c3b2c46e68b"
      },
      "execution_count": null,
      "outputs": [
        {
          "output_type": "stream",
          "name": "stdout",
          "text": [
            "[0, 1, 4, 9]\n",
            "0\n",
            "1\n",
            "4\n",
            "9\n",
            "Gen in Loop:\n",
            "0, 1, 4, 9, "
          ]
        }
      ]
    },
    {
      "cell_type": "code",
      "source": [
        "# Generator Expressions vs List Comprehensions\n",
        "\n",
        "# List Comprehensions\n",
        "print([x ** 2 for x in range(11) if x % 2 == 0]) # prints squares of even nums till 10.\n",
        "\n",
        "# Generator Expressions\n",
        "gen = (x ** 2 for x in range(11) if x % 2 == 0) # uses () for declaring\n",
        "for sqs in gen:\n",
        "  print(sqs, end=\", \")\n",
        "print()\n",
        "\n",
        "# Infinite Generator\n",
        "\n",
        "def infinite_counting():\n",
        "  i = 0\n",
        "  while True:\n",
        "    yield i\n",
        "    i += 1\n",
        "\n",
        "counter = infinite_counting()\n",
        "print(next(counter))\n",
        "print(next(counter))"
      ],
      "metadata": {
        "colab": {
          "base_uri": "https://localhost:8080/"
        },
        "id": "guJFCJN2SOeT",
        "outputId": "958c4a0c-a10b-45dd-825d-f305686336e2"
      },
      "execution_count": null,
      "outputs": [
        {
          "output_type": "stream",
          "name": "stdout",
          "text": [
            "[0, 4, 16, 36, 64, 100]\n",
            "0, 4, 16, 36, 64, 100, \n",
            "0\n",
            "1\n"
          ]
        }
      ]
    },
    {
      "cell_type": "code",
      "source": [
        "# Understanding range data type\n",
        "  # it's a lazy iterator that generates numbers on demand.\n",
        "\n",
        "r = range(1, 10, 2)\n",
        "# Does NOT store all numbers, just start=1, stop=10, step=2\n",
        "# generates on the go\n",
        "print(r.index(3)) # index if 3\n",
        "print(r[1]) # supports indexing"
      ],
      "metadata": {
        "colab": {
          "base_uri": "https://localhost:8080/"
        },
        "id": "JdhSDgG4wLGd",
        "outputId": "ab92d04d-ed91-4843-b615-b91cd76e875e"
      },
      "execution_count": null,
      "outputs": [
        {
          "output_type": "stream",
          "name": "stdout",
          "text": [
            "1\n",
            "3\n"
          ]
        }
      ]
    },
    {
      "cell_type": "code",
      "source": [
        "# Printing Without Newlines and Overwriting Output in Python\n",
        "\n",
        "# Printing Without Newlines\n",
        "    # end=\"\" in print()\n",
        "\n",
        "# Overwriting Output Using \\r (Carriage Return)\n",
        "import os\n",
        "from time import sleep\n",
        "\n",
        "spinner = ['-', '\\\\', '|', '/']\n",
        "i = 0\n",
        "for c in range(11):\n",
        "  os.system('clear')\n",
        "  print(f\"\\rLoading ({spinner[c % 4]})\", end=\"\", flush=True)\n",
        "  print(\"=\", end=\"\")\n",
        "  sleep(0.1)"
      ],
      "metadata": {
        "colab": {
          "base_uri": "https://localhost:8080/"
        },
        "id": "vA7_fmqxACgm",
        "outputId": "32f02044-401a-4ed8-fdc0-286b4a1babc4"
      },
      "execution_count": null,
      "outputs": [
        {
          "output_type": "stream",
          "name": "stdout",
          "text": [
            "Loading (|)="
          ]
        }
      ]
    },
    {
      "cell_type": "code",
      "source": [
        "# Understanding tqdm for Dynamic Progress Bars in Python\n",
        "  # - tqdm is a Python library that provides a fast, extensible progress bar for loops and iterable objects.\n",
        "  # - When you wrap an iterable object with tqdm(), it dynamically updates the progress bar as the loop progresses.\n",
        "\n",
        "# Basic usage\n",
        "from tqdm import tqdm\n",
        "from time import sleep\n",
        "\n",
        "for i in tqdm(range(100)):\n",
        "  sleep(0.03)"
      ],
      "metadata": {
        "colab": {
          "base_uri": "https://localhost:8080/"
        },
        "id": "FfISq04ZtU9p",
        "outputId": "bf2a3628-176f-4b56-c9cc-fedfa770384d"
      },
      "execution_count": null,
      "outputs": [
        {
          "output_type": "stream",
          "name": "stderr",
          "text": [
            "100%|██████████| 100/100 [00:03<00:00, 32.82it/s]\n"
          ]
        }
      ]
    },
    {
      "cell_type": "code",
      "source": [
        "# ex08\n",
        "from tqdm import tqdm\n",
        "from time import sleep\n",
        "from typing import Generator\n",
        "\n",
        "def ft_tqdm(lst: range) -> Generator[int, None, None]:\n",
        "    max_step = 10\n",
        "    bar_start = lst.start\n",
        "    bar_end = lst.stop - 1\n",
        "    bar_step = (bar_end - bar_start) / max_step\n",
        "    for item in lst:\n",
        "        yield item\n",
        "        bar = int((item / bar_end) * max_step)\n",
        "        filled_bar = \"\".join([':' for _ in range(bar)])\n",
        "        remaining_bar = \"\".join([' ' for _ in range(max_step - bar)])\n",
        "        percent = int((item / bar_end) * 100)\n",
        "        bar_display = filled_bar + remaining_bar\n",
        "        print(f\"\\r{percent}%|{bar_display}| {int(item + 1)}/{bar_end + 1}\", end=\"\", flush=True)\n",
        "\n",
        "for i in ft_tqdm(range(100)):\n",
        "  sleep(0.01)\n",
        "\n",
        "print()\n",
        "\n",
        "# for i in tqdm(range(100)):\n",
        "#   if i % 5 == 0:\n",
        "#     sleep(1)\n",
        "#   sleep(0.01)"
      ],
      "metadata": {
        "colab": {
          "base_uri": "https://localhost:8080/"
        },
        "id": "tlhO0oQ-3gLQ",
        "outputId": "27a31ec7-1f94-474c-a84f-77882b827b44"
      },
      "execution_count": 57,
      "outputs": [
        {
          "output_type": "stream",
          "name": "stdout",
          "text": [
            "100%|::::::::::| 100/100\n"
          ]
        }
      ]
    },
    {
      "cell_type": "code",
      "source": [],
      "metadata": {
        "id": "HZ9g8tDYfURY"
      },
      "execution_count": null,
      "outputs": []
    }
  ]
}